{
  "cells": [
    {
      "cell_type": "code",
      "execution_count": null,
      "metadata": {
        "collapsed": false
      },
      "outputs": [],
      "source": [
        "%matplotlib inline"
      ]
    },
    {
      "cell_type": "markdown",
      "metadata": {},
      "source": [
        "\n# Minimalistic example\n\n\nDemonstrate basic use of :class:`coroica.CoroICA`\n\n"
      ]
    },
    {
      "cell_type": "code",
      "execution_count": null,
      "metadata": {
        "collapsed": false
      },
      "outputs": [],
      "source": [
        "import numpy as np\nfrom coroica import CoroICA, UwedgeICA\nfrom matplotlib import pyplot as plt\nfrom sklearn.decomposition import FastICA\nfrom sklearn.linear_model import LinearRegression\nfrom sklearn.model_selection import cross_val_predict\nfrom sklearn.pipeline import Pipeline\n\n# generate data\nX = np.random.randn(500, 25)\ny = np.random.randn(500,)\n\ngroup_index = np.zeros(500,)\ngroup_index[150:] = 1\n\nX[:, :10] = X[:, :10] + 2 * y.reshape(-1, 1)\n\nX[:150, 5:20] += 3 * np.random.randn(150, 15).dot(np.random.randn(15, 15))\nX[150:, 5:20] += 5 * np.random.randn(350, 15).dot(np.random.randn(15, 15))\n\n# define coroICA-based pipeline\nmodel_coroICA = Pipeline(steps=[\n    ('coroICA', CoroICA(n_components=10,\n                        timelags=[5, 10],\n                        max_matrices='no_partitions',\n                        pairing='allpairs')),\n    ('regression', LinearRegression())])\n\n# get cross-validated predictions with coroICA-based pipeline\ny_hat_coroICA = cross_val_predict(\n    model_coroICA,\n    X,\n    y,\n    fit_params={'coroICA__group_index': group_index})\n\n# define uwedgeICA-based pipeline (second-order-based, ignores groupstructure)\nmodel_uwedgeICA = Pipeline(steps=[\n    ('uwedgeICA', UwedgeICA(n_components=10)),\n    ('regression', LinearRegression())])\n\n# get cross-validated predictions with uwedgeICA-based pipeline\ny_hat_uwedgeICA = cross_val_predict(\n    model_uwedgeICA,\n    X,\n    y)\n\n# define pooled fastica-based pipeline (ignores groupstructure)\nmodel_fastica = Pipeline(steps=[\n    ('fastica', FastICA(n_components=10)),\n    ('regression', LinearRegression())])\n\n# get cross-validated predictions with pooled fastica-based pipeline\ny_hat_fastica = cross_val_predict(\n    model_fastica,\n    X,\n    y)\n\n# for comparison plot scatter of predictions against the true y\nplt.plot(y, y_hat_coroICA,\n         '.',\n         label='coroICA (correlation with true y {:.2f})'.format(\n             np.corrcoef(y, y_hat_coroICA)[0, 1]))\n\nplt.plot(y, y_hat_uwedgeICA,\n         '.',\n         label='uwedgeICA (correlation with true y {:.2f})'.format(\n             np.corrcoef(y, y_hat_uwedgeICA)[0, 1]))\n\nplt.plot(y, y_hat_fastica,\n         '.',\n         label='pooled fastica (correlation with true y {:.2f})'.format(\n             np.corrcoef(y, y_hat_fastica)[0, 1]))\n\nplt.title('y vs y_hat')\nplt.legend(loc='best')\nplt.grid(True)\nplt.xlabel('true y')\nplt.ylabel('y_hat')\n\nplt.show()"
      ]
    }
  ],
  "metadata": {
    "kernelspec": {
      "display_name": "Python 3",
      "language": "python",
      "name": "python3"
    },
    "language_info": {
      "codemirror_mode": {
        "name": "ipython",
        "version": 3
      },
      "file_extension": ".py",
      "mimetype": "text/x-python",
      "name": "python",
      "nbconvert_exporter": "python",
      "pygments_lexer": "ipython3",
      "version": "3.6.3"
    }
  },
  "nbformat": 4,
  "nbformat_minor": 0
}